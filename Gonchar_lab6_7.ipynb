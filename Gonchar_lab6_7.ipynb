{
  "nbformat": 4,
  "nbformat_minor": 0,
  "metadata": {
    "colab": {
      "provenance": []
    },
    "kernelspec": {
      "name": "python3",
      "display_name": "Python 3"
    },
    "language_info": {
      "name": "python"
    }
  },
  "cells": [
    {
      "cell_type": "code",
      "execution_count": null,
      "metadata": {
        "id": "rshAwv-kd7PK"
      },
      "outputs": [],
      "source": [
        "import numpy as np\n",
        "import pandas as pd\n",
        "from sklearn.model_selection import train_test_split\n",
        "from sklearn.linear_model import LinearRegression, Ridge, Lasso\n",
        "from sklearn.metrics import mean_squared_error, r2_score\n",
        "from sklearn.datasets import fetch_california_housing\n",
        "import matplotlib.pyplot as plt"
      ]
    },
    {
      "cell_type": "code",
      "source": [
        "# Завантажуємо датасет California Housing\n",
        "data = fetch_california_housing()\n",
        "\n",
        "# Перетворюємо на DataFrame для зручності\n",
        "df = pd.DataFrame(data.data, columns=data.feature_names)\n",
        "df['MedHouseVal'] = data.target\n",
        "\n",
        "# Розділяємо дані на фічі та цільову змінну\n",
        "X = df.drop('MedHouseVal', axis=1)\n",
        "y = df['MedHouseVal']\n",
        "\n",
        "# Розділяємо дані на тренувальну (80%) і тестову (20%) вибірки\n",
        "X_train, X_test, y_train, y_test = train_test_split(X, y, test_size=0.2, random_state=42)"
      ],
      "metadata": {
        "id": "Ru1BE3kVd7qI"
      },
      "execution_count": null,
      "outputs": []
    },
    {
      "cell_type": "code",
      "source": [
        "# Створюємо та тренуємо базову лінійну регресійну модель\n",
        "lin_reg = LinearRegression()\n",
        "lin_reg.fit(X_train, y_train)\n",
        "\n",
        "# Прогнозуємо на тренувальних і тестових даних\n",
        "y_train_pred = lin_reg.predict(X_train)\n",
        "y_test_pred = lin_reg.predict(X_test)\n",
        "\n",
        "# Оцінюємо модель\n",
        "print(\"Лінійна регресія (базова модель):\")\n",
        "print(f\"Тренувальний MSE: {mean_squared_error(y_train, y_train_pred)}\")\n",
        "print(f\"Тестовий MSE: {mean_squared_error(y_test, y_test_pred)}\")\n",
        "print(f\"Тренувальний R²: {r2_score(y_train, y_train_pred)}\")\n",
        "print(f\"Тестовий R²: {r2_score(y_test, y_test_pred)}\")"
      ],
      "metadata": {
        "colab": {
          "base_uri": "https://localhost:8080/"
        },
        "id": "Z-GvTLujd7sy",
        "outputId": "22f322f7-72d7-4a28-c78b-bb834cf34f9e"
      },
      "execution_count": null,
      "outputs": [
        {
          "output_type": "stream",
          "name": "stdout",
          "text": [
            "Лінійна регресія (базова модель):\n",
            "Тренувальний MSE: 0.5179331255246699\n",
            "Тестовий MSE: 0.5558915986952444\n",
            "Тренувальний R²: 0.6125511913966952\n",
            "Тестовий R²: 0.5757877060324508\n"
          ]
        }
      ]
    },
    {
      "cell_type": "code",
      "source": [
        "# Ridge (L2 регуляризація)\n",
        "ridge_reg = Ridge(alpha=1.0)\n",
        "ridge_reg.fit(X_train, y_train)\n",
        "\n",
        "y_train_pred_ridge = ridge_reg.predict(X_train)\n",
        "y_test_pred_ridge = ridge_reg.predict(X_test)\n",
        "\n",
        "print(\"\\nRidge Regression:\")\n",
        "print(f\"Тренувальний MSE: {mean_squared_error(y_train, y_train_pred_ridge)}\")\n",
        "print(f\"Тестовий MSE: {mean_squared_error(y_test, y_test_pred_ridge)}\")\n",
        "print(f\"Тренувальний R²: {r2_score(y_train, y_train_pred_ridge)}\")\n",
        "print(f\"Тестовий R²: {r2_score(y_test, y_test_pred_ridge)}\")"
      ],
      "metadata": {
        "colab": {
          "base_uri": "https://localhost:8080/"
        },
        "id": "wL6KLuTad7vT",
        "outputId": "fa0ad62d-061d-45d7-93f9-801078db820f"
      },
      "execution_count": null,
      "outputs": [
        {
          "output_type": "stream",
          "name": "stdout",
          "text": [
            "\n",
            "Ridge Regression:\n",
            "Тренувальний MSE: 0.5179332149226819\n",
            "Тестовий MSE: 0.5558034669932211\n",
            "Тренувальний R²: 0.6125511245209703\n",
            "Тестовий R²: 0.5758549611440126\n"
          ]
        }
      ]
    },
    {
      "cell_type": "code",
      "source": [
        "# Lasso (L1 регуляризація)\n",
        "lasso_reg = Lasso(alpha=0.1)\n",
        "lasso_reg.fit(X_train, y_train)\n",
        "\n",
        "y_train_pred_lasso = lasso_reg.predict(X_train)\n",
        "y_test_pred_lasso = lasso_reg.predict(X_test)\n",
        "\n",
        "print(\"\\nLasso Regression:\")\n",
        "print(f\"Тренувальний MSE: {mean_squared_error(y_train, y_train_pred_lasso)}\")\n",
        "print(f\"Тестовий MSE: {mean_squared_error(y_test, y_test_pred_lasso)}\")\n",
        "print(f\"Тренувальний R²: {r2_score(y_train, y_train_pred_lasso)}\")\n",
        "print(f\"Тестовий R²: {r2_score(y_test, y_test_pred_lasso)}\")"
      ],
      "metadata": {
        "colab": {
          "base_uri": "https://localhost:8080/"
        },
        "id": "wXxV1-Jld7yL",
        "outputId": "fa4aad14-c5b6-4fc4-a387-46ac246c53b0"
      },
      "execution_count": null,
      "outputs": [
        {
          "output_type": "stream",
          "name": "stdout",
          "text": [
            "\n",
            "Lasso Regression:\n",
            "Тренувальний MSE: 0.60300014172392\n",
            "Тестовий MSE: 0.6135115198058131\n",
            "Тренувальний R²: 0.5489153425707493\n",
            "Тестовий R²: 0.5318167610318159\n"
          ]
        }
      ]
    },
    {
      "cell_type": "code",
      "source": [
        "# Досліджуємо вплив параметра альфа в Ridge\n",
        "alphas = np.logspace(-3, 3, 100)\n",
        "ridge_train_mse = []\n",
        "ridge_test_mse = []\n",
        "\n",
        "for alpha in alphas:\n",
        "    ridge_reg = Ridge(alpha=alpha)\n",
        "    ridge_reg.fit(X_train, y_train)\n",
        "    ridge_train_mse.append(mean_squared_error(y_train, ridge_reg.predict(X_train)))\n",
        "    ridge_test_mse.append(mean_squared_error(y_test, ridge_reg.predict(X_test)))\n",
        "\n",
        "plt.plot(alphas, ridge_train_mse, label='Train MSE')\n",
        "plt.plot(alphas, ridge_test_mse, label='Test MSE')\n",
        "plt.xscale('log')\n",
        "plt.xlabel('Alpha')\n",
        "plt.ylabel('MSE')\n",
        "plt.title('Ridge Regression: Вплив альфа на помилку')\n",
        "plt.legend()\n",
        "plt.show()"
      ],
      "metadata": {
        "colab": {
          "base_uri": "https://localhost:8080/",
          "height": 476
        },
        "id": "oD0jLLd0d70x",
        "outputId": "c70dddc6-b49a-4c0e-e5ac-a3bcffcaad6d"
      },
      "execution_count": null,
      "outputs": [
        {
          "output_type": "display_data",
          "data": {
            "text/plain": [
              "<Figure size 640x480 with 1 Axes>"
            ],
            "image/png": "[encoded data removed]"
          },
          "metadata": {}
        }
      ]
    },
    {
      "cell_type": "markdown",
      "source": [
        "ВИСНОВОК\n",
        "Під час виконання завдання було побудовано базову лінійну регресійну модель та оцінено її на тренувальних і тестових даних. Аналіз результатів показав наявність перенавчання, що було виправлено за допомогою регуляризації (Ridge і Lasso)."
      ],
      "metadata": {
        "id": "nQ-qc5ZpfhOe"
      }
    }
  ]
}