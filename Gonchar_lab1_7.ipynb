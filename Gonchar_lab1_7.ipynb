{
  "nbformat": 4,
  "nbformat_minor": 0,
  "metadata": {
    "colab": {
      "provenance": []
    },
    "kernelspec": {
      "name": "python3",
      "display_name": "Python 3"
    },
    "language_info": {
      "name": "python"
    }
  },
  "cells": [
    {
      "cell_type": "markdown",
      "source": [
        "Лабоарторна робота 1 Гончар Назар ФІТ 4-8 Варіант 7"
      ],
      "metadata": {
        "id": "ywp6CaO96A6F"
      }
    },
    {
      "cell_type": "code",
      "source": [
        "import numpy as np"
      ],
      "metadata": {
        "id": "VUi6BviM9WBe"
      },
      "execution_count": null,
      "outputs": []
    },
    {
      "cell_type": "markdown",
      "source": [
        "1. Створіть дві матриці розміром 3x2 та 2x4, заповніть їх випадковими цілими числами\n",
        "в діапазоні від 1 до 10 та перемножте їх між собою."
      ],
      "metadata": {
        "id": "JM9daybE6NLC"
      }
    },
    {
      "cell_type": "code",
      "source": [
        "matrix1 = np.random.randint(1, 11, size=(3, 2))\n",
        "matrix2 = np.random.randint(1, 11, size=(2, 4))\n",
        "\n",
        "print(\"Matrix 1 (3x2):\")\n",
        "print(matrix1)\n",
        "\n",
        "print(\"\\nMatrix 2 (2x4):\")\n",
        "print(matrix2)\n",
        "\n",
        "result = np.dot(matrix1, matrix2)\n",
        "\n",
        "print(\"\\nResult of matrix multiplication (3x4):\")\n",
        "print(result)"
      ],
      "metadata": {
        "colab": {
          "base_uri": "https://localhost:8080/"
        },
        "id": "_6leXqxu6N5v",
        "outputId": "a49debbe-dd3d-48f8-e843-b86649ea63a5"
      },
      "execution_count": null,
      "outputs": [
        {
          "output_type": "stream",
          "name": "stdout",
          "text": [
            "Matrix 1 (3x2):\n",
            "[[ 2 10]\n",
            " [ 6  3]\n",
            " [ 4  1]]\n",
            "\n",
            "Matrix 2 (2x4):\n",
            "[[5 3 7 6]\n",
            " [1 5 6 7]]\n",
            "\n",
            "Result of matrix multiplication (3x4):\n",
            "[[20 56 74 82]\n",
            " [33 33 60 57]\n",
            " [21 17 34 31]]\n"
          ]
        }
      ]
    },
    {
      "cell_type": "markdown",
      "source": [
        "2. Створіть дві матриці розміром 2x3 та 3x2, заповніть їх випадковими цілими числами\n",
        "в діапазоні від 1 до 5 та перемножте їх між собою.\n"
      ],
      "metadata": {
        "id": "sL6VD9XN6Pqu"
      }
    },
    {
      "cell_type": "code",
      "source": [
        "matrix1 = np.random.randint(1, 6, size=(2, 3))\n",
        "matrix2 = np.random.randint(1, 6, size=(3, 2))\n",
        "\n",
        "print(\"Matrix 1 (2x3):\")\n",
        "print(matrix1)\n",
        "\n",
        "print(\"\\nMatrix 2 (3x2):\")\n",
        "print(matrix2)\n",
        "\n",
        "result = np.dot(matrix1, matrix2)\n",
        "\n",
        "print(\"\\nResult of matrix multiplication (2x2):\")\n",
        "print(result)"
      ],
      "metadata": {
        "colab": {
          "base_uri": "https://localhost:8080/"
        },
        "id": "z6_Taa8_6Qm8",
        "outputId": "9e1f371e-75b7-4f5c-a5cb-34e84ba37d88"
      },
      "execution_count": null,
      "outputs": [
        {
          "output_type": "stream",
          "name": "stdout",
          "text": [
            "Matrix 1 (2x3):\n",
            "[[2 1 1]\n",
            " [2 4 5]]\n",
            "\n",
            "Matrix 2 (3x2):\n",
            "[[2 4]\n",
            " [3 4]\n",
            " [2 2]]\n",
            "\n",
            "Result of matrix multiplication (2x2):\n",
            "[[ 9 14]\n",
            " [26 34]]\n"
          ]
        }
      ]
    },
    {
      "cell_type": "markdown",
      "source": [
        "3. Створіть дві матриці розміром 4x2 та 2x5, заповніть їх випадковими цілими числами\n",
        "в діапазоні від 1 до 7 та перемножте їх між собою."
      ],
      "metadata": {
        "id": "wrCAWWTs6Qzg"
      }
    },
    {
      "cell_type": "code",
      "source": [
        "matrix1 = np.random.randint(1, 8, size=(4, 2))\n",
        "matrix2 = np.random.randint(1, 8, size=(2, 5))\n",
        "\n",
        "print(\"Matrix 1 (4x2):\")\n",
        "print(matrix1)\n",
        "\n",
        "print(\"\\nMatrix 2 (2x5):\")\n",
        "print(matrix2)\n",
        "\n",
        "result = np.dot(matrix1, matrix2)\n",
        "\n",
        "print(\"\\nResult of matrix multiplication (4x5):\")\n",
        "print(result)"
      ],
      "metadata": {
        "colab": {
          "base_uri": "https://localhost:8080/"
        },
        "id": "8KnCTa4w6RDi",
        "outputId": "c4d7ef61-dc44-4779-df5c-8bbde0498bb9"
      },
      "execution_count": null,
      "outputs": [
        {
          "output_type": "stream",
          "name": "stdout",
          "text": [
            "Matrix 1 (4x2):\n",
            "[[2 1]\n",
            " [2 2]\n",
            " [5 4]\n",
            " [1 1]]\n",
            "\n",
            "Matrix 2 (2x5):\n",
            "[[7 7 5 1 1]\n",
            " [4 5 5 3 4]]\n",
            "\n",
            "Result of matrix multiplication (4x5):\n",
            "[[18 19 15  5  6]\n",
            " [22 24 20  8 10]\n",
            " [51 55 45 17 21]\n",
            " [11 12 10  4  5]]\n"
          ]
        }
      ]
    },
    {
      "cell_type": "markdown",
      "source": [
        "4. Створіть дві матриці розміром 2x3 та 3x3, заповніть їх випадковими цілими числами\n",
        "в діапазоні від 1 до 5 та перемножте їх між собою.\n"
      ],
      "metadata": {
        "id": "yqoQieKz6RsK"
      }
    },
    {
      "cell_type": "code",
      "source": [
        "matrix1 = np.random.randint(1, 6, size=(2, 3))\n",
        "matrix2 = np.random.randint(1, 6, size=(3, 3))\n",
        "\n",
        "print(\"Matrix 1 (2x3):\")\n",
        "print(matrix1)\n",
        "\n",
        "print(\"\\nMatrix 2 (3x3):\")\n",
        "print(matrix2)\n",
        "\n",
        "result = np.dot(matrix1, matrix2)\n",
        "\n",
        "print(\"\\nResult of matrix multiplication (2x3):\")\n",
        "print(result)"
      ],
      "metadata": {
        "colab": {
          "base_uri": "https://localhost:8080/"
        },
        "id": "j-J7KI_c6R8n",
        "outputId": "e19e1497-c431-4f68-fd85-56808f219ef0"
      },
      "execution_count": null,
      "outputs": [
        {
          "output_type": "stream",
          "name": "stdout",
          "text": [
            "Matrix 1 (2x3):\n",
            "[[4 1 5]\n",
            " [5 2 5]]\n",
            "\n",
            "Matrix 2 (3x3):\n",
            "[[4 1 4]\n",
            " [2 3 2]\n",
            " [5 1 1]]\n",
            "\n",
            "Result of matrix multiplication (2x3):\n",
            "[[43 12 23]\n",
            " [49 16 29]]\n"
          ]
        }
      ]
    },
    {
      "cell_type": "markdown",
      "source": [
        "5. Створіть дві матриці розміром 3x2 та 2x2, заповніть їх випадковими цілими числами\n",
        "в діапазоні від 1 до 8 та перемножте їх між собою.\n"
      ],
      "metadata": {
        "id": "R2LDyiSI6S7T"
      }
    },
    {
      "cell_type": "code",
      "source": [
        "matrix1 = np.random.randint(1, 9, size=(3, 2))\n",
        "matrix2 = np.random.randint(1, 9, size=(2, 2))\n",
        "\n",
        "print(\"Matrix 1 (3x2):\")\n",
        "print(matrix1)\n",
        "\n",
        "print(\"\\nMatrix 2 (2x2):\")\n",
        "print(matrix2)\n",
        "\n",
        "result = np.dot(matrix1, matrix2)\n",
        "\n",
        "print(\"\\nResult of matrix multiplication (3x2):\")\n",
        "print(result)"
      ],
      "metadata": {
        "colab": {
          "base_uri": "https://localhost:8080/"
        },
        "id": "2MWa-oDG6TJ_",
        "outputId": "18d90bde-424b-4d7e-d07f-496ebea6ab3f"
      },
      "execution_count": null,
      "outputs": [
        {
          "output_type": "stream",
          "name": "stdout",
          "text": [
            "Matrix 1 (3x2):\n",
            "[[4 3]\n",
            " [5 2]\n",
            " [2 1]]\n",
            "\n",
            "Matrix 2 (2x2):\n",
            "[[5 8]\n",
            " [6 3]]\n",
            "\n",
            "Result of matrix multiplication (3x2):\n",
            "[[38 41]\n",
            " [37 46]\n",
            " [16 19]]\n"
          ]
        }
      ]
    },
    {
      "cell_type": "markdown",
      "source": [
        "6. Створіть дві матриці розміром 2x3 та 3x4, заповніть їх випадковими цілими числами\n",
        "в діапазоні від 1 до 5 та перемножте їх між собою."
      ],
      "metadata": {
        "id": "VIWLvI2x6TWI"
      }
    },
    {
      "cell_type": "code",
      "source": [
        "matrix1 = np.random.randint(1, 6, size=(2, 3))\n",
        "matrix2 = np.random.randint(1, 6, size=(3, 4))\n",
        "\n",
        "print(\"Matrix 1 (2x3):\")\n",
        "print(matrix1)\n",
        "\n",
        "print(\"\\nMatrix 2 (3x4):\")\n",
        "print(matrix2)\n",
        "\n",
        "result = np.dot(matrix1, matrix2)\n",
        "\n",
        "print(\"\\nResult of matrix multiplication (2x4):\")\n",
        "print(result)"
      ],
      "metadata": {
        "colab": {
          "base_uri": "https://localhost:8080/"
        },
        "id": "Xlospckz6T0a",
        "outputId": "5f11f892-f6bf-408a-dbe0-5a14a430bf1c"
      },
      "execution_count": null,
      "outputs": [
        {
          "output_type": "stream",
          "name": "stdout",
          "text": [
            "Matrix 1 (2x3):\n",
            "[[2 3 4]\n",
            " [4 3 5]]\n",
            "\n",
            "Matrix 2 (3x4):\n",
            "[[4 5 5 4]\n",
            " [3 5 3 3]\n",
            " [2 4 4 2]]\n",
            "\n",
            "Result of matrix multiplication (2x4):\n",
            "[[25 41 35 25]\n",
            " [35 55 49 35]]\n"
          ]
        }
      ]
    },
    {
      "cell_type": "markdown",
      "source": [
        "7. Створіть дві матриці розміром 4x2 та 2x2, заповніть їх випадковими цілими числами\n",
        "в діапазоні від 1 до 6 та перемножте їх між собою.\n"
      ],
      "metadata": {
        "id": "jpA0hZJQ6UTO"
      }
    },
    {
      "cell_type": "code",
      "source": [
        "matrix1 = np.random.randint(1, 7, size=(4, 2))\n",
        "matrix2 = np.random.randint(1, 7, size=(2, 2))\n",
        "\n",
        "print(\"Matrix 1 (4x2):\")\n",
        "print(matrix1)\n",
        "\n",
        "print(\"\\nMatrix 2 (2x2):\")\n",
        "print(matrix2)\n",
        "\n",
        "result = np.dot(matrix1, matrix2)\n",
        "\n",
        "print(\"\\nResult of matrix multiplication (4x2):\")\n",
        "print(result)"
      ],
      "metadata": {
        "colab": {
          "base_uri": "https://localhost:8080/"
        },
        "id": "gT1Og4zj6vgx",
        "outputId": "495d1f8b-0f5f-4a04-fa29-7339ba48a69f"
      },
      "execution_count": null,
      "outputs": [
        {
          "output_type": "stream",
          "name": "stdout",
          "text": [
            "Matrix 1 (4x2):\n",
            "[[2 3]\n",
            " [6 3]\n",
            " [2 5]\n",
            " [2 5]]\n",
            "\n",
            "Matrix 2 (2x2):\n",
            "[[4 3]\n",
            " [2 1]]\n",
            "\n",
            "Result of matrix multiplication (4x2):\n",
            "[[14  9]\n",
            " [30 21]\n",
            " [18 11]\n",
            " [18 11]]\n"
          ]
        }
      ]
    },
    {
      "cell_type": "markdown",
      "source": [
        "8. Створіть дві матриці розміром 2x3 та 3x3, заповніть їх випадковими цілими числами\n",
        "в діапазоні від 1 до 4 та перемножте їх між собою.\n"
      ],
      "metadata": {
        "id": "XYpuweIN6v4N"
      }
    },
    {
      "cell_type": "code",
      "source": [
        "matrix1 = np.random.randint(1, 5, size=(2, 3))\n",
        "matrix2 = np.random.randint(1, 5, size=(3, 3))\n",
        "\n",
        "print(\"Matrix 1 (2x3):\")\n",
        "print(matrix1)\n",
        "\n",
        "print(\"\\nMatrix 2 (3x3):\")\n",
        "print(matrix2)\n",
        "\n",
        "result = np.dot(matrix1, matrix2)\n",
        "\n",
        "print(\"\\nResult of matrix multiplication (2x3):\")\n",
        "print(result)"
      ],
      "metadata": {
        "colab": {
          "base_uri": "https://localhost:8080/"
        },
        "id": "CnH05DHS6wIN",
        "outputId": "13a861e2-44bb-4bbb-f99f-8f68912343c5"
      },
      "execution_count": null,
      "outputs": [
        {
          "output_type": "stream",
          "name": "stdout",
          "text": [
            "Matrix 1 (2x3):\n",
            "[[4 4 2]\n",
            " [3 2 2]]\n",
            "\n",
            "Matrix 2 (3x3):\n",
            "[[2 4 4]\n",
            " [3 2 2]\n",
            " [1 1 2]]\n",
            "\n",
            "Result of matrix multiplication (2x3):\n",
            "[[22 26 28]\n",
            " [14 18 20]]\n"
          ]
        }
      ]
    },
    {
      "cell_type": "markdown",
      "source": [
        "9. Створіть дві матриці розміром 3x2 та 2x4, заповніть їх випадковими цілими числами\n",
        "в діапазоні від 1 до 10 та перемножте їх між собою.\n"
      ],
      "metadata": {
        "id": "A3jnKVwX6wTL"
      }
    },
    {
      "cell_type": "code",
      "source": [
        "matrix1 = np.random.randint(1, 11, size=(3, 2))\n",
        "matrix2 = np.random.randint(1, 11, size=(2, 4))\n",
        "\n",
        "print(\"Matrix 1 (3x2):\")\n",
        "print(matrix1)\n",
        "\n",
        "print(\"\\nMatrix 2 (2x4):\")\n",
        "print(matrix2)\n",
        "\n",
        "result = np.dot(matrix1, matrix2)\n",
        "\n",
        "print(\"\\nResult of matrix multiplication (3x4):\")\n",
        "print(result)"
      ],
      "metadata": {
        "colab": {
          "base_uri": "https://localhost:8080/"
        },
        "id": "mHhMEL716wk_",
        "outputId": "784c80f8-2088-4e76-9b42-16270c8ca449"
      },
      "execution_count": null,
      "outputs": [
        {
          "output_type": "stream",
          "name": "stdout",
          "text": [
            "Matrix 1 (3x2):\n",
            "[[10  1]\n",
            " [ 5  8]\n",
            " [ 5  9]]\n",
            "\n",
            "Matrix 2 (2x4):\n",
            "[[ 3  7  5  9]\n",
            " [ 2  9 10  7]]\n",
            "\n",
            "Result of matrix multiplication (3x4):\n",
            "[[ 32  79  60  97]\n",
            " [ 31 107 105 101]\n",
            " [ 33 116 115 108]]\n"
          ]
        }
      ]
    },
    {
      "cell_type": "markdown",
      "source": [
        "10. Створіть дві матриці розміром 2x3 та 3x2, заповніть їх випадковими цілими числами\n",
        "в діапазоні від 1 до 5 та перемножте їх між собою."
      ],
      "metadata": {
        "id": "5P4nBqe16wvl"
      }
    },
    {
      "cell_type": "code",
      "source": [
        "matrix1 = np.random.randint(1, 6, size=(2, 3))\n",
        "matrix2 = np.random.randint(1, 6, size=(3, 2))\n",
        "\n",
        "print(\"Matrix 1 (2x3):\")\n",
        "print(matrix1)\n",
        "\n",
        "print(\"\\nMatrix 2 (3x2):\")\n",
        "print(matrix2)\n",
        "\n",
        "result = np.dot(matrix1, matrix2)\n",
        "\n",
        "print(\"\\nResult of matrix multiplication (2x2):\")\n",
        "print(result)"
      ],
      "metadata": {
        "colab": {
          "base_uri": "https://localhost:8080/"
        },
        "id": "5jdyAoE-6w_N",
        "outputId": "cf262061-b4d7-4909-c588-0806f4de4e53"
      },
      "execution_count": null,
      "outputs": [
        {
          "output_type": "stream",
          "name": "stdout",
          "text": [
            "Matrix 1 (2x3):\n",
            "[[3 4 2]\n",
            " [2 3 4]]\n",
            "\n",
            "Matrix 2 (3x2):\n",
            "[[4 2]\n",
            " [2 3]\n",
            " [4 2]]\n",
            "\n",
            "Result of matrix multiplication (2x2):\n",
            "[[28 22]\n",
            " [30 21]]\n"
          ]
        }
      ]
    },
    {
      "cell_type": "markdown",
      "source": [
        "11. Створіть дві матриці розміром 4x2 та 2x5, заповніть їх випадковими цілими числами\n",
        "в діапазоні від 1 до 10 та перемножте їх між собою."
      ],
      "metadata": {
        "id": "yN5cD_rK6xLb"
      }
    },
    {
      "cell_type": "code",
      "source": [
        "matrix1 = np.random.randint(1, 11, size=(4, 2))\n",
        "matrix2 = np.random.randint(1, 11, size=(2, 5))\n",
        "\n",
        "print(\"Matrix 1 (4x2):\")\n",
        "print(matrix1)\n",
        "\n",
        "print(\"\\nMatrix 2 (2x5):\")\n",
        "print(matrix2)\n",
        "\n",
        "result = np.dot(matrix1, matrix2)\n",
        "\n",
        "print(\"\\nResult of matrix multiplication (4x5):\")\n",
        "print(result)"
      ],
      "metadata": {
        "colab": {
          "base_uri": "https://localhost:8080/"
        },
        "id": "PuAsAJwR6xtL",
        "outputId": "91a59d86-9209-46a2-a905-cf36412def1d"
      },
      "execution_count": null,
      "outputs": [
        {
          "output_type": "stream",
          "name": "stdout",
          "text": [
            "Matrix 1 (4x2):\n",
            "[[ 2  3]\n",
            " [ 7  4]\n",
            " [ 5  4]\n",
            " [10 10]]\n",
            "\n",
            "Matrix 2 (2x5):\n",
            "[[ 8  8 10  1  8]\n",
            " [ 7  3 10  1  5]]\n",
            "\n",
            "Result of matrix multiplication (4x5):\n",
            "[[ 37  25  50   5  31]\n",
            " [ 84  68 110  11  76]\n",
            " [ 68  52  90   9  60]\n",
            " [150 110 200  20 130]]\n"
          ]
        }
      ]
    },
    {
      "cell_type": "markdown",
      "source": [
        "12. Створіть дві матриці розміром 2x3 та 3x3, заповніть їх випадковими цілими числами\n",
        "в діапазоні від 1 до 5 та перемножте їх між собою."
      ],
      "metadata": {
        "id": "M3vjSZ7v6yJT"
      }
    },
    {
      "cell_type": "code",
      "source": [
        "matrix1 = np.random.randint(1, 6, size=(2, 3))\n",
        "matrix2 = np.random.randint(1, 6, size=(3, 3))\n",
        "\n",
        "print(\"Matrix 1 (2x3):\")\n",
        "print(matrix1)\n",
        "\n",
        "print(\"\\nMatrix 2 (3x3):\")\n",
        "print(matrix2)\n",
        "\n",
        "result = np.dot(matrix1, matrix2)\n",
        "\n",
        "print(\"\\nResult of matrix multiplication (2x3):\")\n",
        "print(result)"
      ],
      "metadata": {
        "colab": {
          "base_uri": "https://localhost:8080/"
        },
        "id": "jU3S9n9a6yW5",
        "outputId": "2c3033d1-423c-4c12-fd63-ea9d372a43fd"
      },
      "execution_count": null,
      "outputs": [
        {
          "output_type": "stream",
          "name": "stdout",
          "text": [
            "Matrix 1 (2x3):\n",
            "[[4 3 4]\n",
            " [5 2 5]]\n",
            "\n",
            "Matrix 2 (3x3):\n",
            "[[5 3 1]\n",
            " [3 3 3]\n",
            " [2 4 1]]\n",
            "\n",
            "Result of matrix multiplication (2x3):\n",
            "[[37 37 17]\n",
            " [41 41 16]]\n"
          ]
        }
      ]
    },
    {
      "cell_type": "markdown",
      "source": [
        "13. Створіть дві матриці розміром 3x2 та 2x2, заповніть їх випадковими цілими числами\n",
        "в діапазоні від 1 до 8 та перемножте їх між собою.\n"
      ],
      "metadata": {
        "id": "jo0ZUGDa6ymP"
      }
    },
    {
      "cell_type": "code",
      "source": [
        "matrix1 = np.random.randint(1, 9, size=(3, 2))\n",
        "matrix2 = np.random.randint(1, 9, size=(2, 2))\n",
        "\n",
        "print(\"Matrix 1 (3x2):\")\n",
        "print(matrix1)\n",
        "\n",
        "print(\"\\nMatrix 2 (2x2):\")\n",
        "print(matrix2)\n",
        "\n",
        "result = np.dot(matrix1, matrix2)\n",
        "\n",
        "print(\"\\nResult of matrix multiplication (3x2):\")\n",
        "print(result)"
      ],
      "metadata": {
        "colab": {
          "base_uri": "https://localhost:8080/"
        },
        "id": "KvKyvdEs6zUL",
        "outputId": "a7880098-2e07-4bf4-f8c7-b6c3c21212e0"
      },
      "execution_count": null,
      "outputs": [
        {
          "output_type": "stream",
          "name": "stdout",
          "text": [
            "Matrix 1 (3x2):\n",
            "[[6 1]\n",
            " [4 8]\n",
            " [4 6]]\n",
            "\n",
            "Matrix 2 (2x2):\n",
            "[[4 7]\n",
            " [6 6]]\n",
            "\n",
            "Result of matrix multiplication (3x2):\n",
            "[[30 48]\n",
            " [64 76]\n",
            " [52 64]]\n"
          ]
        }
      ]
    },
    {
      "cell_type": "markdown",
      "source": [
        "14. Створіть дві матриці розміром 2x3 та 3x4, заповніть їх випадковими цілими числами\n",
        "в діапазоні від 1 до 5 та перемножте їх між собою."
      ],
      "metadata": {
        "id": "JXG8anp56zy9"
      }
    },
    {
      "cell_type": "code",
      "source": [
        "matrix1 = np.random.randint(1, 6, size=(2, 3))\n",
        "matrix2 = np.random.randint(1, 6, size=(3, 4))\n",
        "\n",
        "print(\"Matrix 1 (2x3):\")\n",
        "print(matrix1)\n",
        "\n",
        "print(\"\\nMatrix 2 (3x4):\")\n",
        "print(matrix2)\n",
        "\n",
        "result = np.dot(matrix1, matrix2)\n",
        "\n",
        "print(\"\\nResult of matrix multiplication (2x4):\")\n",
        "print(result)"
      ],
      "metadata": {
        "colab": {
          "base_uri": "https://localhost:8080/"
        },
        "id": "0LtXbmmi60CT",
        "outputId": "5f9698d8-9375-4f29-9fe0-0046d2df991e"
      },
      "execution_count": null,
      "outputs": [
        {
          "output_type": "stream",
          "name": "stdout",
          "text": [
            "Matrix 1 (2x3):\n",
            "[[4 5 3]\n",
            " [3 5 5]]\n",
            "\n",
            "Matrix 2 (3x4):\n",
            "[[4 2 5 4]\n",
            " [1 5 2 3]\n",
            " [3 1 4 4]]\n",
            "\n",
            "Result of matrix multiplication (2x4):\n",
            "[[30 36 42 43]\n",
            " [32 36 45 47]]\n"
          ]
        }
      ]
    },
    {
      "cell_type": "markdown",
      "source": [
        "15. Створіть дві матриці розміром 4x2 та 2x2, заповніть їх випадковими цілими числами\n",
        "в діапазоні від 1 до 3 та перемножте їх між собою."
      ],
      "metadata": {
        "id": "HsKGKZ2z60OV"
      }
    },
    {
      "cell_type": "code",
      "source": [
        "matrix1 = np.random.randint(1, 4, size=(4, 2))\n",
        "matrix2 = np.random.randint(1, 4, size=(2, 2))\n",
        "\n",
        "print(\"Matrix 1 (4x2):\")\n",
        "print(matrix1)\n",
        "\n",
        "print(\"\\nMatrix 2 (2x2):\")\n",
        "print(matrix2)\n",
        "\n",
        "result = np.dot(matrix1, matrix2)\n",
        "\n",
        "print(\"\\nResult of matrix multiplication (4x2):\")\n",
        "print(result)"
      ],
      "metadata": {
        "colab": {
          "base_uri": "https://localhost:8080/"
        },
        "id": "v1pB5cUD60dn",
        "outputId": "58abceb6-5d43-40eb-f6cf-406a45ffbc29"
      },
      "execution_count": null,
      "outputs": [
        {
          "output_type": "stream",
          "name": "stdout",
          "text": [
            "Matrix 1 (4x2):\n",
            "[[3 2]\n",
            " [3 3]\n",
            " [3 1]\n",
            " [3 1]]\n",
            "\n",
            "Matrix 2 (2x2):\n",
            "[[3 1]\n",
            " [1 2]]\n",
            "\n",
            "Result of matrix multiplication (4x2):\n",
            "[[11  7]\n",
            " [12  9]\n",
            " [10  5]\n",
            " [10  5]]\n"
          ]
        }
      ]
    },
    {
      "cell_type": "markdown",
      "source": [
        "16. Створіть дві матриці розміром 2x3 та 3x3, заповніть їх випадковими цілими числами\n",
        "в діапазоні від 1 до 4 та перемножте їх між собою."
      ],
      "metadata": {
        "id": "Sijl6PlF7kBL"
      }
    },
    {
      "cell_type": "code",
      "source": [
        "matrix1 = np.random.randint(1, 5, size=(2, 3))\n",
        "matrix2 = np.random.randint(1, 5, size=(3, 3))\n",
        "\n",
        "print(\"Matrix 1 (2x3):\")\n",
        "print(matrix1)\n",
        "\n",
        "print(\"\\nMatrix 2 (3x3):\")\n",
        "print(matrix2)\n",
        "\n",
        "result = np.dot(matrix1, matrix2)\n",
        "\n",
        "print(\"\\nResult of matrix multiplication (2x3):\")\n",
        "print(result)"
      ],
      "metadata": {
        "colab": {
          "base_uri": "https://localhost:8080/"
        },
        "id": "GxeufBPs7kU7",
        "outputId": "983603e5-6c1c-4ff8-f8bf-47ac6b57f120"
      },
      "execution_count": null,
      "outputs": [
        {
          "output_type": "stream",
          "name": "stdout",
          "text": [
            "Matrix 1 (2x3):\n",
            "[[1 1 1]\n",
            " [1 3 2]]\n",
            "\n",
            "Matrix 2 (3x3):\n",
            "[[2 1 2]\n",
            " [4 1 1]\n",
            " [1 3 2]]\n",
            "\n",
            "Result of matrix multiplication (2x3):\n",
            "[[ 7  5  5]\n",
            " [16 10  9]]\n"
          ]
        }
      ]
    },
    {
      "cell_type": "markdown",
      "source": [
        "17. Створіть дві матриці розміром 3x2 та 2x4, заповніть їх випадковими цілими числами\n",
        "в діапазоні від 1 до 4 та перемножте їх між собою."
      ],
      "metadata": {
        "id": "Ph-_JZ587ksF"
      }
    },
    {
      "cell_type": "code",
      "source": [
        "matrix1 = np.random.randint(1, 5, size=(3, 2))\n",
        "matrix2 = np.random.randint(1, 5, size=(2, 4))\n",
        "\n",
        "print(\"Matrix 1 (3x2):\")\n",
        "print(matrix1)\n",
        "\n",
        "print(\"\\nMatrix 2 (2x4):\")\n",
        "print(matrix2)\n",
        "\n",
        "result = np.dot(matrix1, matrix2)\n",
        "\n",
        "print(\"\\nResult of matrix multiplication (3x4):\")\n",
        "print(result)"
      ],
      "metadata": {
        "colab": {
          "base_uri": "https://localhost:8080/"
        },
        "id": "lNeIwF-07k7Z",
        "outputId": "734e2367-8194-45bd-ae6d-05540e9c8217"
      },
      "execution_count": null,
      "outputs": [
        {
          "output_type": "stream",
          "name": "stdout",
          "text": [
            "Matrix 1 (3x2):\n",
            "[[1 2]\n",
            " [3 1]\n",
            " [1 1]]\n",
            "\n",
            "Matrix 2 (2x4):\n",
            "[[1 1 2 2]\n",
            " [4 3 1 1]]\n",
            "\n",
            "Result of matrix multiplication (3x4):\n",
            "[[9 7 4 4]\n",
            " [7 6 7 7]\n",
            " [5 4 3 3]]\n"
          ]
        }
      ]
    },
    {
      "cell_type": "markdown",
      "source": [
        "18. Створіть дві матриці розміром 2x3 та 3x2, заповніть їх випадковими цілими числами\n",
        "в діапазоні від 1 до 5 та перемножте їх між собою."
      ],
      "metadata": {
        "id": "w5zqBas57lIv"
      }
    },
    {
      "cell_type": "code",
      "source": [
        "matrix1 = np.random.randint(1, 6, size=(2, 3))\n",
        "matrix2 = np.random.randint(1, 6, size=(3, 2))\n",
        "\n",
        "print(\"Matrix 1 (2x3):\")\n",
        "print(matrix1)\n",
        "\n",
        "print(\"\\nMatrix 2 (3x2):\")\n",
        "print(matrix2)\n",
        "\n",
        "result = np.dot(matrix1, matrix2)\n",
        "\n",
        "print(\"\\nResult of matrix multiplication (2x2):\")\n",
        "print(result)"
      ],
      "metadata": {
        "colab": {
          "base_uri": "https://localhost:8080/"
        },
        "id": "K4LqPkOR7lYL",
        "outputId": "5ca5962a-3c7c-4360-e7e3-212af1332bfb"
      },
      "execution_count": null,
      "outputs": [
        {
          "output_type": "stream",
          "name": "stdout",
          "text": [
            "Matrix 1 (2x3):\n",
            "[[4 1 4]\n",
            " [2 5 4]]\n",
            "\n",
            "Matrix 2 (3x2):\n",
            "[[5 1]\n",
            " [2 4]\n",
            " [3 5]]\n",
            "\n",
            "Result of matrix multiplication (2x2):\n",
            "[[34 28]\n",
            " [32 42]]\n"
          ]
        }
      ]
    },
    {
      "cell_type": "markdown",
      "source": [
        "19. Створіть дві матриці розміром 4x2 та 2x5, заповніть їх випадковими цілими числами\n",
        "в діапазоні від 1 до 6 та перемножте їх між собою.\n"
      ],
      "metadata": {
        "id": "BIBmMOe47lkv"
      }
    },
    {
      "cell_type": "code",
      "source": [
        "matrix1 = np.random.randint(1, 7, size=(4, 2))\n",
        "matrix2 = np.random.randint(1, 7, size=(2, 5))\n",
        "\n",
        "print(\"Matrix 1 (4x2):\")\n",
        "print(matrix1)\n",
        "\n",
        "print(\"\\nMatrix 2 (2x5):\")\n",
        "print(matrix2)\n",
        "\n",
        "result = np.dot(matrix1, matrix2)\n",
        "\n",
        "print(\"\\nResult of matrix multiplication (4x5):\")\n",
        "print(result)"
      ],
      "metadata": {
        "colab": {
          "base_uri": "https://localhost:8080/"
        },
        "id": "CtFDSf5F7mCl",
        "outputId": "0068863d-7c90-4c18-eb6f-1d5455eae24d"
      },
      "execution_count": null,
      "outputs": [
        {
          "output_type": "stream",
          "name": "stdout",
          "text": [
            "Matrix 1 (4x2):\n",
            "[[1 5]\n",
            " [3 1]\n",
            " [4 3]\n",
            " [3 1]]\n",
            "\n",
            "Matrix 2 (2x5):\n",
            "[[5 3 6 6 2]\n",
            " [2 5 4 1 3]]\n",
            "\n",
            "Result of matrix multiplication (4x5):\n",
            "[[15 28 26 11 17]\n",
            " [17 14 22 19  9]\n",
            " [26 27 36 27 17]\n",
            " [17 14 22 19  9]]\n"
          ]
        }
      ]
    },
    {
      "cell_type": "markdown",
      "source": [
        "20. Створіть дві матриці розміром 2x3 та 3x3, заповніть їх випадковими цілими числами\n",
        "в діапазоні від 1 до 4 та перемножте їх між собою.\n"
      ],
      "metadata": {
        "id": "A6echFqr7mZ1"
      }
    },
    {
      "cell_type": "code",
      "source": [
        "matrix1 = np.random.randint(1, 5, size=(2, 3))\n",
        "matrix2 = np.random.randint(1, 5, size=(3, 3))\n",
        "\n",
        "print(\"Matrix 1 (2x3):\")\n",
        "print(matrix1)\n",
        "\n",
        "print(\"\\nMatrix 2 (3x3):\")\n",
        "print(matrix2)\n",
        "\n",
        "result = np.dot(matrix1, matrix2)\n",
        "\n",
        "print(\"\\nResult of matrix multiplication (2x3):\")\n",
        "print(result)"
      ],
      "metadata": {
        "colab": {
          "base_uri": "https://localhost:8080/"
        },
        "id": "-sFaUiiv7mov",
        "outputId": "01492940-ccdc-4a59-9b46-36b79b628475"
      },
      "execution_count": null,
      "outputs": [
        {
          "output_type": "stream",
          "name": "stdout",
          "text": [
            "Matrix 1 (2x3):\n",
            "[[1 2 3]\n",
            " [1 4 1]]\n",
            "\n",
            "Matrix 2 (3x3):\n",
            "[[1 1 1]\n",
            " [3 1 4]\n",
            " [4 2 4]]\n",
            "\n",
            "Result of matrix multiplication (2x3):\n",
            "[[19  9 21]\n",
            " [17  7 21]]\n"
          ]
        }
      ]
    },
    {
      "cell_type": "markdown",
      "source": [
        "21. Створіть дві матриці розміром 2x3 та 3x3, заповніть їх випадковими цілими числами\n",
        "в діапазоні від 1 до 5 та перемножте їх між собою."
      ],
      "metadata": {
        "id": "Z1y1IW117my1"
      }
    },
    {
      "cell_type": "code",
      "source": [
        "matrix1 = np.random.randint(1, 6, size=(2, 3))\n",
        "matrix2 = np.random.randint(1, 6, size=(3, 3))\n",
        "\n",
        "print(\"Matrix 1 (2x3):\")\n",
        "print(matrix1)\n",
        "\n",
        "print(\"\\nMatrix 2 (3x3):\")\n",
        "print(matrix2)\n",
        "\n",
        "result = np.dot(matrix1, matrix2)\n",
        "\n",
        "print(\"\\nResult of matrix multiplication (2x3):\")\n",
        "print(result)"
      ],
      "metadata": {
        "colab": {
          "base_uri": "https://localhost:8080/"
        },
        "id": "lqWyRxnd7nQh",
        "outputId": "8b0d4bbc-bc19-4ee0-97cf-c83cbcb03174"
      },
      "execution_count": null,
      "outputs": [
        {
          "output_type": "stream",
          "name": "stdout",
          "text": [
            "Matrix 1 (2x3):\n",
            "[[4 5 5]\n",
            " [2 5 3]]\n",
            "\n",
            "Matrix 2 (3x3):\n",
            "[[2 5 1]\n",
            " [4 1 3]\n",
            " [3 1 5]]\n",
            "\n",
            "Result of matrix multiplication (2x3):\n",
            "[[43 30 44]\n",
            " [33 18 32]]\n"
          ]
        }
      ]
    },
    {
      "cell_type": "markdown",
      "source": [
        "22. Створіть дві матриці розміром 3x2 та 2x2, заповніть їх випадковими цілими числами\n",
        "в діапазоні від 1 до 8 та перемножте їх між собою."
      ],
      "metadata": {
        "id": "-axN4P4U7na_"
      }
    },
    {
      "cell_type": "code",
      "source": [
        "matrix1 = np.random.randint(1, 9, size=(3, 2))\n",
        "matrix2 = np.random.randint(1, 9, size=(2, 2))\n",
        "\n",
        "print(\"Matrix 1 (3x2):\")\n",
        "print(matrix1)\n",
        "\n",
        "print(\"\\nMatrix 2 (2x2):\")\n",
        "print(matrix2)\n",
        "\n",
        "result = np.dot(matrix1, matrix2)\n",
        "\n",
        "print(\"\\nResult of matrix multiplication (3x2):\")\n",
        "print(result)"
      ],
      "metadata": {
        "colab": {
          "base_uri": "https://localhost:8080/"
        },
        "id": "fpO3OAH67npN",
        "outputId": "d03a26c5-414c-4a3b-abbe-245584153d18"
      },
      "execution_count": null,
      "outputs": [
        {
          "output_type": "stream",
          "name": "stdout",
          "text": [
            "Matrix 1 (3x2):\n",
            "[[3 5]\n",
            " [1 1]\n",
            " [6 5]]\n",
            "\n",
            "Matrix 2 (2x2):\n",
            "[[1 3]\n",
            " [2 6]]\n",
            "\n",
            "Result of matrix multiplication (3x2):\n",
            "[[13 39]\n",
            " [ 3  9]\n",
            " [16 48]]\n"
          ]
        }
      ]
    },
    {
      "cell_type": "markdown",
      "source": [
        "23. Створіть дві матриці розміром 2x3 та 3x4, заповніть їх випадковими цілими числами\n",
        "в діапазоні від 1 до 7 та перемножте їх між собою."
      ],
      "metadata": {
        "id": "N-mvPuxo7n0M"
      }
    },
    {
      "cell_type": "code",
      "source": [
        "matrix1 = np.random.randint(1, 8, size=(2, 3))\n",
        "matrix2 = np.random.randint(1, 8, size=(3, 4))\n",
        "\n",
        "print(\"Matrix 1 (2x3):\")\n",
        "print(matrix1)\n",
        "\n",
        "print(\"\\nMatrix 2 (3x4):\")\n",
        "print(matrix2)\n",
        "\n",
        "result = np.dot(matrix1, matrix2)\n",
        "\n",
        "print(\"\\nResult of matrix multiplication (2x4):\")\n",
        "print(result)"
      ],
      "metadata": {
        "colab": {
          "base_uri": "https://localhost:8080/"
        },
        "id": "FPA12w0_7oCh",
        "outputId": "f0c9a300-738b-4571-a6e6-f2f1ee14a18a"
      },
      "execution_count": null,
      "outputs": [
        {
          "output_type": "stream",
          "name": "stdout",
          "text": [
            "Matrix 1 (2x3):\n",
            "[[4 5 6]\n",
            " [5 4 2]]\n",
            "\n",
            "Matrix 2 (3x4):\n",
            "[[7 6 1 1]\n",
            " [1 2 5 6]\n",
            " [2 5 4 4]]\n",
            "\n",
            "Result of matrix multiplication (2x4):\n",
            "[[45 64 53 58]\n",
            " [43 48 33 37]]\n"
          ]
        }
      ]
    },
    {
      "cell_type": "markdown",
      "source": [
        "24. Створіть дві матриці розміром 4x2 та 2x2, заповніть їх випадковими цілими числами\n",
        "в діапазоні від 1 до 6 та перемножте їх між собою.\n"
      ],
      "metadata": {
        "id": "vw7ZmlHP7oMv"
      }
    },
    {
      "cell_type": "code",
      "source": [
        "matrix1 = np.random.randint(1, 7, size=(4, 2))\n",
        "matrix2 = np.random.randint(1, 7, size=(2, 2))\n",
        "\n",
        "print(\"Matrix 1 (4x2):\")\n",
        "print(matrix1)\n",
        "\n",
        "print(\"\\nMatrix 2 (2x2):\")\n",
        "print(matrix2)\n",
        "\n",
        "result = np.dot(matrix1, matrix2)\n",
        "\n",
        "print(\"\\nResult of matrix multiplication (4x2):\")\n",
        "print(result)"
      ],
      "metadata": {
        "colab": {
          "base_uri": "https://localhost:8080/"
        },
        "id": "41jRTF_s7odn",
        "outputId": "553ce81e-fdae-4943-fbfc-7420ee1c09cc"
      },
      "execution_count": null,
      "outputs": [
        {
          "output_type": "stream",
          "name": "stdout",
          "text": [
            "Matrix 1 (4x2):\n",
            "[[4 3]\n",
            " [5 1]\n",
            " [5 1]\n",
            " [6 5]]\n",
            "\n",
            "Matrix 2 (2x2):\n",
            "[[4 2]\n",
            " [3 1]]\n",
            "\n",
            "Result of matrix multiplication (4x2):\n",
            "[[25 11]\n",
            " [23 11]\n",
            " [23 11]\n",
            " [39 17]]\n"
          ]
        }
      ]
    },
    {
      "cell_type": "markdown",
      "source": [
        "25. Створіть дві матриці розміром 2x3 та 3x3, заповніть їх випадковими цілими числами\n",
        "в діапазоні від 1 до 5 та перемножте їх між собою."
      ],
      "metadata": {
        "id": "EfJro74g7on5"
      }
    },
    {
      "cell_type": "code",
      "source": [
        "matrix1 = np.random.randint(1, 6, size=(2, 3))\n",
        "matrix2 = np.random.randint(1, 6, size=(3, 3))\n",
        "\n",
        "print(\"Matrix 1 (2x3):\")\n",
        "print(matrix1)\n",
        "\n",
        "print(\"\\nMatrix 2 (3x3):\")\n",
        "print(matrix2)\n",
        "\n",
        "result = np.dot(matrix1, matrix2)\n",
        "\n",
        "print(\"\\nResult of matrix multiplication (2x3):\")\n",
        "print(result)"
      ],
      "metadata": {
        "id": "HW0zxUL08Aum"
      },
      "execution_count": null,
      "outputs": []
    },
    {
      "cell_type": "markdown",
      "source": [
        "26. Створіть дві матриці розміром 3x2 та 2x4, заповніть їх випадковими цілими числами\n",
        "в діапазоні від 1 до 5 та перемножте їх між собою."
      ],
      "metadata": {
        "id": "rqwGIPGN8BKi"
      }
    },
    {
      "cell_type": "code",
      "source": [
        "matrix1 = np.random.randint(1, 6, size=(3, 2))\n",
        "matrix2 = np.random.randint(1, 6, size=(2, 4))\n",
        "\n",
        "print(\"Matrix 1 (3x2):\")\n",
        "print(matrix1)\n",
        "\n",
        "print(\"\\nMatrix 2 (2x4):\")\n",
        "print(matrix2)\n",
        "\n",
        "result = np.dot(matrix1, matrix2)\n",
        "\n",
        "print(\"\\nResult of matrix multiplication (3x4):\")\n",
        "print(result)"
      ],
      "metadata": {
        "colab": {
          "base_uri": "https://localhost:8080/"
        },
        "id": "6-KJmR8L8Bmm",
        "outputId": "df0e6e2a-bf94-411b-8e7c-481060eb6aa7"
      },
      "execution_count": null,
      "outputs": [
        {
          "output_type": "stream",
          "name": "stdout",
          "text": [
            "Matrix 1 (3x2):\n",
            "[[4 1]\n",
            " [2 4]\n",
            " [3 5]]\n",
            "\n",
            "Matrix 2 (2x4):\n",
            "[[2 2 1 4]\n",
            " [5 4 1 5]]\n",
            "\n",
            "Result of matrix multiplication (3x4):\n",
            "[[13 12  5 21]\n",
            " [24 20  6 28]\n",
            " [31 26  8 37]]\n"
          ]
        }
      ]
    },
    {
      "cell_type": "markdown",
      "source": [
        "27. Створіть дві матриці розміром 2x3 та 3x2, заповніть їх випадковими цілими числами\n",
        "в діапазоні від 1 до 7 та перемножте їх між собою."
      ],
      "metadata": {
        "id": "hymc7_-I8BzH"
      }
    },
    {
      "cell_type": "code",
      "source": [
        "matrix1 = np.random.randint(1, 8, size=(2, 3))\n",
        "matrix2 = np.random.randint(1, 8, size=(3, 2))\n",
        "\n",
        "print(\"Matrix 1 (2x3):\")\n",
        "print(matrix1)\n",
        "\n",
        "print(\"\\nMatrix 2 (3x2):\")\n",
        "print(matrix2)\n",
        "\n",
        "result = np.dot(matrix1, matrix2)\n",
        "\n",
        "print(\"\\nResult of matrix multiplication (2x2):\")\n",
        "print(result)"
      ],
      "metadata": {
        "colab": {
          "base_uri": "https://localhost:8080/"
        },
        "id": "09vjfvC08B_8",
        "outputId": "ccaf3e50-1762-4065-a35c-14c6f8224d64"
      },
      "execution_count": null,
      "outputs": [
        {
          "output_type": "stream",
          "name": "stdout",
          "text": [
            "Matrix 1 (2x3):\n",
            "[[3 6 6]\n",
            " [3 5 2]]\n",
            "\n",
            "Matrix 2 (3x2):\n",
            "[[1 4]\n",
            " [4 1]\n",
            " [1 7]]\n",
            "\n",
            "Result of matrix multiplication (2x2):\n",
            "[[33 60]\n",
            " [25 31]]\n"
          ]
        }
      ]
    },
    {
      "cell_type": "markdown",
      "source": [
        "28. Створіть дві матриці розміром 2x3 та 3x4, заповніть їх випадковими цілими числами\n",
        "в діапазоні від 1 до 4 та перемножте їх між собою."
      ],
      "metadata": {
        "id": "4oT6Tjrt8CMw"
      }
    },
    {
      "cell_type": "code",
      "source": [
        "matrix1 = np.random.randint(1, 5, size=(2, 3))\n",
        "matrix2 = np.random.randint(1, 5, size=(3, 4))\n",
        "\n",
        "print(\"Matrix 1 (2x3):\")\n",
        "print(matrix1)\n",
        "\n",
        "print(\"\\nMatrix 2 (3x4):\")\n",
        "print(matrix2)\n",
        "\n",
        "result = np.dot(matrix1, matrix2)\n",
        "\n",
        "print(\"\\nResult of matrix multiplication (2x4):\")\n",
        "print(result)"
      ],
      "metadata": {
        "colab": {
          "base_uri": "https://localhost:8080/"
        },
        "id": "ILlzjYwr8CZ0",
        "outputId": "977e95ff-120f-4277-816c-f8444a1a0dca"
      },
      "execution_count": null,
      "outputs": [
        {
          "output_type": "stream",
          "name": "stdout",
          "text": [
            "Matrix 1 (2x3):\n",
            "[[3 1 2]\n",
            " [1 2 1]]\n",
            "\n",
            "Matrix 2 (3x4):\n",
            "[[3 4 4 1]\n",
            " [3 1 2 4]\n",
            " [1 4 4 4]]\n",
            "\n",
            "Result of matrix multiplication (2x4):\n",
            "[[14 21 22 15]\n",
            " [10 10 12 13]]\n"
          ]
        }
      ]
    },
    {
      "cell_type": "markdown",
      "source": [
        "29. Створіть дві матриці розміром 4x2 та 2x2, заповніть їх випадковими цілими числами\n",
        "в діапазоні від 1 до 3 та перемножте їх між собою.\n"
      ],
      "metadata": {
        "id": "ngrmT3bg8CnQ"
      }
    },
    {
      "cell_type": "code",
      "source": [
        "matrix1 = np.random.randint(1, 4, size=(4, 2))\n",
        "matrix2 = np.random.randint(1, 4, size=(2, 2))\n",
        "\n",
        "print(\"Matrix 1 (4x2):\")\n",
        "print(matrix1)\n",
        "\n",
        "print(\"\\nMatrix 2 (2x2):\")\n",
        "print(matrix2)\n",
        "\n",
        "result = np.dot(matrix1, matrix2)\n",
        "\n",
        "print(\"\\nResult of matrix multiplication (4x2):\")\n",
        "print(result)"
      ],
      "metadata": {
        "colab": {
          "base_uri": "https://localhost:8080/"
        },
        "id": "MY2WDTtc8Mup",
        "outputId": "14f8a08b-a00f-4bd0-a5a2-7029bc6e2a5d"
      },
      "execution_count": null,
      "outputs": [
        {
          "output_type": "stream",
          "name": "stdout",
          "text": [
            "Matrix 1 (4x2):\n",
            "[[3 1]\n",
            " [2 1]\n",
            " [3 2]\n",
            " [1 3]]\n",
            "\n",
            "Matrix 2 (2x2):\n",
            "[[2 1]\n",
            " [1 3]]\n",
            "\n",
            "Result of matrix multiplication (4x2):\n",
            "[[ 7  6]\n",
            " [ 5  5]\n",
            " [ 8  9]\n",
            " [ 5 10]]\n"
          ]
        }
      ]
    },
    {
      "cell_type": "markdown",
      "source": [
        "30. Створіть дві матриці розміром 3x2 та 2x4, заповніть їх випадковими цілими числами\n",
        "в діапазоні від 1 до 10 та перемножте їх між собою.\n"
      ],
      "metadata": {
        "id": "ZOqzLSrF8NDP"
      }
    },
    {
      "cell_type": "code",
      "source": [
        "matrix1 = np.random.randint(1, 11, size=(3, 2))\n",
        "matrix2 = np.random.randint(1, 11, size=(2, 4))\n",
        "\n",
        "print(\"Matrix 1 (3x2):\")\n",
        "print(matrix1)\n",
        "\n",
        "print(\"\\nMatrix 2 (2x4):\")\n",
        "print(matrix2)\n",
        "\n",
        "result = np.dot(matrix1, matrix2)\n",
        "\n",
        "print(\"\\nResult of matrix multiplication (3x4):\")\n",
        "print(result)"
      ],
      "metadata": {
        "colab": {
          "base_uri": "https://localhost:8080/"
        },
        "id": "unf9Jwzp8Nsf",
        "outputId": "7ddedd34-e3d1-4926-bbc0-2bfeb25978f9"
      },
      "execution_count": null,
      "outputs": [
        {
          "output_type": "stream",
          "name": "stdout",
          "text": [
            "Matrix 1 (3x2):\n",
            "[[4 7]\n",
            " [7 9]\n",
            " [6 4]]\n",
            "\n",
            "Matrix 2 (2x4):\n",
            "[[ 3  7  4  5]\n",
            " [ 4  4 10 10]]\n",
            "\n",
            "Result of matrix multiplication (3x4):\n",
            "[[ 40  56  86  90]\n",
            " [ 57  85 118 125]\n",
            " [ 34  58  64  70]]\n"
          ]
        }
      ]
    }
  ]
}
