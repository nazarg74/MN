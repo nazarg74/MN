{
  "nbformat": 4,
  "nbformat_minor": 0,
  "metadata": {
    "colab": {
      "provenance": [],
      "gpuType": "T4"
    },
    "kernelspec": {
      "name": "python3",
      "display_name": "Python 3"
    },
    "language_info": {
      "name": "python"
    },
    "accelerator": "GPU"
  },
  "cells": [
    {
      "cell_type": "code",
      "execution_count": null,
      "metadata": {
        "colab": {
          "base_uri": "https://localhost:8080/"
        },
        "id": "tqFxj4qiBQ8h",
        "outputId": "76493e0d-fac4-438a-ca68-b853112e4a63"
      },
      "outputs": [
        {
          "output_type": "stream",
          "name": "stdout",
          "text": [
            "Collecting scikit-surprise\n",
            "  Downloading scikit_surprise-1.1.4.tar.gz (154 kB)\n",
            "\u001b[?25l     \u001b[90m━━━━━━━━━━━━━━━━━━━━━━━━━━━━━━━━━━━━━━━━\u001b[0m \u001b[32m0.0/154.4 kB\u001b[0m \u001b[31m?\u001b[0m eta \u001b[36m-:--:--\u001b[0m\r\u001b[2K     \u001b[91m━━━━━━━━━━━━━━━━━━━━━━━━━━━━━━━━━━━━━━━\u001b[0m\u001b[91m╸\u001b[0m \u001b[32m153.6/154.4 kB\u001b[0m \u001b[31m8.9 MB/s\u001b[0m eta \u001b[36m0:00:01\u001b[0m\r\u001b[2K     \u001b[90m━━━━━━━━━━━━━━━━━━━━━━━━━━━━━━━━━━━━━━━━\u001b[0m \u001b[32m154.4/154.4 kB\u001b[0m \u001b[31m2.9 MB/s\u001b[0m eta \u001b[36m0:00:00\u001b[0m\n",
            "\u001b[?25h  Installing build dependencies ... \u001b[?25l\u001b[?25hdone\n",
            "  Getting requirements to build wheel ... \u001b[?25l\u001b[?25hdone\n",
            "  Preparing metadata (pyproject.toml) ... \u001b[?25l\u001b[?25hdone\n",
            "Requirement already satisfied: joblib>=1.2.0 in /usr/local/lib/python3.10/dist-packages (from scikit-surprise) (1.4.2)\n",
            "Requirement already satisfied: numpy>=1.19.5 in /usr/local/lib/python3.10/dist-packages (from scikit-surprise) (1.26.4)\n",
            "Requirement already satisfied: scipy>=1.6.0 in /usr/local/lib/python3.10/dist-packages (from scikit-surprise) (1.13.1)\n",
            "Building wheels for collected packages: scikit-surprise\n",
            "  Building wheel for scikit-surprise (pyproject.toml) ... \u001b[?25l\u001b[?25hdone\n",
            "  Created wheel for scikit-surprise: filename=scikit_surprise-1.1.4-cp310-cp310-linux_x86_64.whl size=2357280 sha256=3b28527297616de23aa24c37d400daec82f1e592794c978f4a03546c5d4e0829\n",
            "  Stored in directory: /root/.cache/pip/wheels/4b/3f/df/6acbf0a40397d9bf3ff97f582cc22fb9ce66adde75bc71fd54\n",
            "Successfully built scikit-surprise\n",
            "Installing collected packages: scikit-surprise\n",
            "Successfully installed scikit-surprise-1.1.4\n"
          ]
        }
      ],
      "source": [
        "!pip install scikit-surprise"
      ]
    },
    {
      "cell_type": "code",
      "source": [
        "import surprise\n",
        "from surprise import Dataset, Reader, SVD, KNNWithMeans\n",
        "from surprise.model_selection import cross_validate, GridSearchCV, train_test_split"
      ],
      "metadata": {
        "id": "ccKORLRFBZU5"
      },
      "execution_count": null,
      "outputs": []
    },
    {
      "cell_type": "code",
      "source": [
        "dataset = Dataset.load_builtin('ml-100k')"
      ],
      "metadata": {
        "colab": {
          "base_uri": "https://localhost:8080/"
        },
        "id": "jL_meGMOBZXs",
        "outputId": "18986bcf-ae79-4337-a0e3-c52367f8153b"
      },
      "execution_count": null,
      "outputs": [
        {
          "output_type": "stream",
          "name": "stdout",
          "text": [
            "Dataset ml-100k could not be found. Do you want to download it? [Y/n] Y\n",
            "Trying to download dataset from https://files.grouplens.org/datasets/movielens/ml-100k.zip...\n",
            "Done! Dataset ml-100k has been saved to /root/.surprise_data/ml-100k\n"
          ]
        }
      ]
    },
    {
      "cell_type": "code",
      "source": [
        "# Виведення перших 5 рядків датасету з поясненнями\n",
        "print(\"Перші 5 рядків датасету:\")\n",
        "for row in dataset.raw_ratings[:5]:\n",
        "    user_id, movie_id, rating, timestamp = row\n",
        "    print(f\"Користувач {user_id} оцінив фільм {movie_id} на {rating} балів (часова позначка: {timestamp})\")"
      ],
      "metadata": {
        "colab": {
          "base_uri": "https://localhost:8080/"
        },
        "id": "aEbA1PrDBZb3",
        "outputId": "ba9f2595-6d88-4a6a-ec4a-9440a7190c19"
      },
      "execution_count": null,
      "outputs": [
        {
          "output_type": "stream",
          "name": "stdout",
          "text": [
            "Перші 5 рядків датасету:\n",
            "Користувач 196 оцінив фільм 242 на 3.0 балів (часова позначка: 881250949)\n",
            "Користувач 186 оцінив фільм 302 на 3.0 балів (часова позначка: 891717742)\n",
            "Користувач 22 оцінив фільм 377 на 1.0 балів (часова позначка: 878887116)\n",
            "Користувач 244 оцінив фільм 51 на 2.0 балів (часова позначка: 880606923)\n",
            "Користувач 166 оцінив фільм 346 на 1.0 балів (часова позначка: 886397596)\n"
          ]
        }
      ]
    },
    {
      "cell_type": "code",
      "source": [
        "# Розбиття на тренувальний і тестовий набори\n",
        "train_set, test_set = train_test_split(dataset, test_size=0.25)\n",
        "\n",
        "# Параметри для підбору для алгоритму SVD\n",
        "param_grid_svd = {\n",
        "    'n_factors': [60, 90],\n",
        "    'lr_all': [0.004, 0.008],\n",
        "    'reg_all': [0.03, 0.07]\n",
        "}"
      ],
      "metadata": {
        "id": "bBUUdFeBBZe1"
      },
      "execution_count": null,
      "outputs": []
    },
    {
      "cell_type": "code",
      "source": [
        "# Налаштування крос-валідації з GridSearchCV\n",
        "svd_search = GridSearchCV(SVD, param_grid_svd, measures=['mae'], cv=3)\n",
        "svd_search.fit(dataset)"
      ],
      "metadata": {
        "id": "7WSRRDL9BZhn"
      },
      "execution_count": null,
      "outputs": []
    },
    {
      "cell_type": "code",
      "source": [
        "# Параметри для алгоритму KNNWithMeans\n",
        "param_grid_knn = {\n",
        "    'k': [10, 20],\n",
        "    'min_k': [2, 4],\n",
        "    'sim_options': {\n",
        "        'name': ['pearson_baseline', 'msd'],\n",
        "        'user_based': [False, True]\n",
        "    }\n",
        "}\n",
        "\n",
        "knn_search = GridSearchCV(KNNWithMeans, param_grid_knn, measures=['mae'], cv=3)\n",
        "knn_search.fit(dataset)"
      ],
      "metadata": {
        "colab": {
          "base_uri": "https://localhost:8080/"
        },
        "id": "aEgvxxcpBZkZ",
        "outputId": "2203e49a-9129-48e1-cc2f-f647e9294bc0"
      },
      "execution_count": null,
      "outputs": [
        {
          "output_type": "stream",
          "name": "stdout",
          "text": [
            "Estimating biases using als...\n",
            "Computing the pearson_baseline similarity matrix...\n",
            "Done computing similarity matrix.\n",
            "Estimating biases using als...\n",
            "Computing the pearson_baseline similarity matrix...\n",
            "Done computing similarity matrix.\n",
            "Estimating biases using als...\n",
            "Computing the pearson_baseline similarity matrix...\n",
            "Done computing similarity matrix.\n",
            "Estimating biases using als...\n",
            "Computing the pearson_baseline similarity matrix...\n",
            "Done computing similarity matrix.\n",
            "Estimating biases using als...\n",
            "Computing the pearson_baseline similarity matrix...\n",
            "Done computing similarity matrix.\n",
            "Estimating biases using als...\n",
            "Computing the pearson_baseline similarity matrix...\n",
            "Done computing similarity matrix.\n",
            "Computing the msd similarity matrix...\n",
            "Done computing similarity matrix.\n",
            "Computing the msd similarity matrix...\n",
            "Done computing similarity matrix.\n",
            "Computing the msd similarity matrix...\n",
            "Done computing similarity matrix.\n",
            "Computing the msd similarity matrix...\n",
            "Done computing similarity matrix.\n",
            "Computing the msd similarity matrix...\n",
            "Done computing similarity matrix.\n",
            "Computing the msd similarity matrix...\n",
            "Done computing similarity matrix.\n",
            "Estimating biases using als...\n",
            "Computing the pearson_baseline similarity matrix...\n",
            "Done computing similarity matrix.\n",
            "Estimating biases using als...\n",
            "Computing the pearson_baseline similarity matrix...\n",
            "Done computing similarity matrix.\n",
            "Estimating biases using als...\n",
            "Computing the pearson_baseline similarity matrix...\n",
            "Done computing similarity matrix.\n",
            "Estimating biases using als...\n",
            "Computing the pearson_baseline similarity matrix...\n",
            "Done computing similarity matrix.\n",
            "Estimating biases using als...\n",
            "Computing the pearson_baseline similarity matrix...\n",
            "Done computing similarity matrix.\n",
            "Estimating biases using als...\n",
            "Computing the pearson_baseline similarity matrix...\n",
            "Done computing similarity matrix.\n",
            "Computing the msd similarity matrix...\n",
            "Done computing similarity matrix.\n",
            "Computing the msd similarity matrix...\n",
            "Done computing similarity matrix.\n",
            "Computing the msd similarity matrix...\n",
            "Done computing similarity matrix.\n",
            "Computing the msd similarity matrix...\n",
            "Done computing similarity matrix.\n",
            "Computing the msd similarity matrix...\n",
            "Done computing similarity matrix.\n",
            "Computing the msd similarity matrix...\n",
            "Done computing similarity matrix.\n",
            "Estimating biases using als...\n",
            "Computing the pearson_baseline similarity matrix...\n",
            "Done computing similarity matrix.\n",
            "Estimating biases using als...\n",
            "Computing the pearson_baseline similarity matrix...\n",
            "Done computing similarity matrix.\n",
            "Estimating biases using als...\n",
            "Computing the pearson_baseline similarity matrix...\n",
            "Done computing similarity matrix.\n",
            "Estimating biases using als...\n",
            "Computing the pearson_baseline similarity matrix...\n",
            "Done computing similarity matrix.\n",
            "Estimating biases using als...\n",
            "Computing the pearson_baseline similarity matrix...\n",
            "Done computing similarity matrix.\n",
            "Estimating biases using als...\n",
            "Computing the pearson_baseline similarity matrix...\n",
            "Done computing similarity matrix.\n",
            "Computing the msd similarity matrix...\n",
            "Done computing similarity matrix.\n",
            "Computing the msd similarity matrix...\n",
            "Done computing similarity matrix.\n",
            "Computing the msd similarity matrix...\n",
            "Done computing similarity matrix.\n",
            "Computing the msd similarity matrix...\n",
            "Done computing similarity matrix.\n",
            "Computing the msd similarity matrix...\n",
            "Done computing similarity matrix.\n",
            "Computing the msd similarity matrix...\n",
            "Done computing similarity matrix.\n",
            "Estimating biases using als...\n",
            "Computing the pearson_baseline similarity matrix...\n",
            "Done computing similarity matrix.\n",
            "Estimating biases using als...\n",
            "Computing the pearson_baseline similarity matrix...\n",
            "Done computing similarity matrix.\n",
            "Estimating biases using als...\n",
            "Computing the pearson_baseline similarity matrix...\n",
            "Done computing similarity matrix.\n",
            "Estimating biases using als...\n",
            "Computing the pearson_baseline similarity matrix...\n",
            "Done computing similarity matrix.\n",
            "Estimating biases using als...\n",
            "Computing the pearson_baseline similarity matrix...\n",
            "Done computing similarity matrix.\n",
            "Estimating biases using als...\n",
            "Computing the pearson_baseline similarity matrix...\n",
            "Done computing similarity matrix.\n",
            "Computing the msd similarity matrix...\n",
            "Done computing similarity matrix.\n",
            "Computing the msd similarity matrix...\n",
            "Done computing similarity matrix.\n",
            "Computing the msd similarity matrix...\n",
            "Done computing similarity matrix.\n",
            "Computing the msd similarity matrix...\n",
            "Done computing similarity matrix.\n",
            "Computing the msd similarity matrix...\n",
            "Done computing similarity matrix.\n",
            "Computing the msd similarity matrix...\n",
            "Done computing similarity matrix.\n"
          ]
        }
      ]
    },
    {
      "cell_type": "code",
      "source": [
        "# Отримання найкращих моделей\n",
        "best_svd_model = svd_search.best_estimator['mae']\n",
        "best_knn_model = knn_search.best_estimator['mae']"
      ],
      "metadata": {
        "id": "iALnRHF7BZnA"
      },
      "execution_count": null,
      "outputs": []
    },
    {
      "cell_type": "code",
      "source": [
        "# Порівняння моделей за MAE\n",
        "print(f\"Найкращий MAE для SVD: {svd_search.best_score['mae']}\")\n",
        "print(f\"Найкращий MAE для KNNWithMeans: {knn_search.best_score['mae']}\")"
      ],
      "metadata": {
        "colab": {
          "base_uri": "https://localhost:8080/"
        },
        "id": "62J8G4LuBZp-",
        "outputId": "baf47b46-4f7f-4604-869a-8ac4e86b64e1"
      },
      "execution_count": null,
      "outputs": [
        {
          "output_type": "stream",
          "name": "stdout",
          "text": [
            "Найкращий MAE для SVD: 0.7352533763088802\n",
            "Найкращий MAE для KNNWithMeans: 0.7305858153596024\n"
          ]
        }
      ]
    },
    {
      "cell_type": "code",
      "source": [
        "# Вибір найкращої моделі\n",
        "selected_model = best_svd_model if svd_search.best_score['mae'] < knn_search.best_score['mae'] else best_knn_model\n",
        "selected_model_name = \"SVD\" if selected_model == best_svd_model else \"KNNWithMeans\"\n",
        "print(f\"Обрано найкращий алгоритм: {selected_model_name}\")"
      ],
      "metadata": {
        "colab": {
          "base_uri": "https://localhost:8080/"
        },
        "id": "C7bj9KujBZss",
        "outputId": "4497c94b-88a0-42a0-8b18-c334b247b7ff"
      },
      "execution_count": null,
      "outputs": [
        {
          "output_type": "stream",
          "name": "stdout",
          "text": [
            "Обрано найкращий алгоритм: KNNWithMeans\n"
          ]
        }
      ]
    },
    {
      "cell_type": "markdown",
      "source": [
        "2 ЗАВДАННЯ"
      ],
      "metadata": {
        "id": "OaiwtipjGvcd"
      }
    },
    {
      "cell_type": "code",
      "source": [
        "# Навчання обраної моделі на всьому датасеті\n",
        "full_trainset = dataset.build_full_trainset()\n",
        "selected_model.fit(full_trainset)\n"
      ],
      "metadata": {
        "colab": {
          "base_uri": "https://localhost:8080/"
        },
        "id": "JTzX-mZZEz02",
        "outputId": "585d14e3-1c6d-4ac5-8864-008645c8f035"
      },
      "execution_count": null,
      "outputs": [
        {
          "output_type": "stream",
          "name": "stdout",
          "text": [
            "Estimating biases using als...\n",
            "Computing the pearson_baseline similarity matrix...\n",
            "Done computing similarity matrix.\n"
          ]
        },
        {
          "output_type": "execute_result",
          "data": {
            "text/plain": [
              "<surprise.prediction_algorithms.knns.KNNWithMeans at 0x78431c433fd0>"
            ]
          },
          "metadata": {},
          "execution_count": 12
        }
      ]
    },
    {
      "cell_type": "code",
      "source": [
        "# Вибір конкретного користувача для рекомендацій\n",
        "user_id = '85'  # Замінити на ID користувача\n"
      ],
      "metadata": {
        "id": "1VDV-AhEEzyL"
      },
      "execution_count": null,
      "outputs": []
    },
    {
      "cell_type": "code",
      "source": [
        "# Отримання списку всіх фільмів\n",
        "all_items = full_trainset.all_items()\n",
        "all_movie_ids = [full_trainset.to_raw_iid(item_id) for item_id in all_items]"
      ],
      "metadata": {
        "id": "iSvOyPTEG1--"
      },
      "execution_count": null,
      "outputs": []
    },
    {
      "cell_type": "code",
      "source": [
        "# Прогнозування оцінок для всіх фільмів, які користувач ще не оцінив\n",
        "predictions = [selected_model.predict(user_id, movie_id) for movie_id in all_movie_ids]\n",
        "top_recommendations = sorted(predictions, key=lambda x: x.est, reverse=True)[:10]"
      ],
      "metadata": {
        "id": "K3Y_fLxEG18A"
      },
      "execution_count": null,
      "outputs": []
    },
    {
      "cell_type": "code",
      "source": [
        "# Виведення топ-10 рекомендацій\n",
        "print(f\"Топ-10 рекомендацій для користувача {user_id}:\")\n",
        "for pred in top_recommendations:\n",
        "    print(f\"Фільм ID: {pred.iid}, прогнозований рейтинг: {pred.est:.2f}\")"
      ],
      "metadata": {
        "colab": {
          "base_uri": "https://localhost:8080/"
        },
        "id": "vZt50FbpG15X",
        "outputId": "c166b87f-5c31-4660-ce41-896e7c23e409"
      },
      "execution_count": null,
      "outputs": [
        {
          "output_type": "stream",
          "name": "stdout",
          "text": [
            "Топ-10 рекомендацій для користувача 85:\n",
            "Фільм ID: 814, прогнозований рейтинг: 5.00\n",
            "Фільм ID: 1536, прогнозований рейтинг: 5.00\n",
            "Фільм ID: 1599, прогнозований рейтинг: 5.00\n",
            "Фільм ID: 1653, прогнозований рейтинг: 5.00\n",
            "Фільм ID: 1122, прогнозований рейтинг: 5.00\n",
            "Фільм ID: 1201, прогнозований рейтинг: 5.00\n",
            "Фільм ID: 1449, прогнозований рейтинг: 4.80\n",
            "Фільм ID: 1467, прогнозований рейтинг: 4.80\n",
            "Фільм ID: 134, прогнозований рейтинг: 4.75\n",
            "Фільм ID: 1293, прогнозований рейтинг: 4.70\n"
          ]
        }
      ]
    },
    {
      "cell_type": "markdown",
      "source": [
        "У цій лабораторній  було використано датасет \"ml-100k\", що містить рецензії на фільми. На основі цього набору даних була побудована система, яка здатна прогнозувати оцінки фільмів для конкретних користувачів. Було отримано рекомендації для обраного користувача, що демонструє практичну роботу системи рекомендацій."
      ],
      "metadata": {
        "id": "m44rSWUUHeOJ"
      }
    }
  ]
}